import numpy as np
import pandas as np


"""
create a function which is able to create the desired scale from any particular starting point
"""

def Key(start, tone): 
#start is a string (the first note), tone is a string either 'major' or 'minor'
    notes = ['c', 'c#', 'd', 'd#', 'e', 'f', 'f#', 'g', 'g#', 'a', 'a#', 'b']
    scale = []
    start = notes.index(start)

    if tone == 'major':
       scale.append(notes[start % len(notes)])
       scale.append(notes[(start + 2) % len(notes)])
       scale.append(notes[(start + 4) % len(notes)])
       scale.append(notes[(start + 5) % len(notes)])
       scale.append(notes[(start + 7) % len(notes)])
       scale.append(notes[(start + 9) % len(notes)])
       scale.append(notes[(start + 11) % len(notes)])
       scale.append(notes[(start + 12) % len(notes)])

    elif tone == 'minor':
       scale.append(notes[start % len(notes)])
       scale.append(notes[(start + 2) % len(notes)])
       scale.append(notes[(start + 3) % len(notes)])
       scale.append(notes[(start + 5) % len(notes)])
       scale.append(notes[(start + 7) % len(notes)])
       scale.append(notes[(start + 8) % len(notes)])
       scale.append(notes[(start + 10) % len(notes)])
       scale.append(notes[(start + 12) % len(notes)])
   

   return scale



"""
class mood:
      def __init__(self, key, bpm, instruments):
      	  self.key = key
      	  self.bpm = bpm
	  self.instruments = instruments
"""


    